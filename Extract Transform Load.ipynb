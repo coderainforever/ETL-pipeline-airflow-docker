{
 "cells": [
  {
   "cell_type": "markdown",
   "metadata": {},
   "source": [
    "# Importing Dependencies"
   ]
  },
  {
   "cell_type": "code",
   "execution_count": 1,
   "metadata": {},
   "outputs": [],
   "source": [
    "from datetime import date, datetime\n",
    "import requests\n",
    "import pandas as pd\n",
    "import json\n",
    "import requests\n",
    "from sqlalchemy import create_engine"
   ]
  },
  {
   "cell_type": "markdown",
   "metadata": {},
   "source": [
    "# Extract"
   ]
  },
  {
   "cell_type": "code",
   "execution_count": 2,
   "metadata": {},
   "outputs": [],
   "source": [
    "# Extract:  Extracting JSON data from public API of New York City website and saving to a .csv file\n",
    "def _extract():\n",
    "    url = \"https://data.cityofnewyork.us/resource/rc75-m7u3.json\"\n",
    "    result_load = requests.get(url)\n",
    "    df = pd.DataFrame(json.loads(result_load.content))\n",
    "    df.to_csv(\"data/covid_db_original_{}.csv\".format(date.today().strftime(\"%Y%m%d\")))\n",
    "_extract()"
   ]
  },
  {
   "cell_type": "markdown",
   "metadata": {},
   "source": [
    "# Transform"
   ]
  },
  {
   "cell_type": "code",
   "execution_count": 3,
   "metadata": {},
   "outputs": [],
   "source": [
    "# Transform: Transforming the data using pandas\n",
    "\n",
    "def _transform():\n",
    "    df1 = pd.read_csv(\"data/covid_db_original_{}.csv\".format(date.today().strftime(\"%Y%m%d\")))\n",
    "    df1['date'] = df1['date_of_interest'].str.extract('(....-..-..)', expand=True)\n",
    "    df1.drop(df1.columns.difference(['date','case_count','hospitalized_count','death_count']), axis=1, inplace=True)\n",
    "    df1 = df1.set_index(\"date\")\n",
    "    df1.to_csv(\"data/covid_db_transformed_{}.csv\".format(date.today().strftime(\"%Y%m%d\")))\n",
    "_transform()"
   ]
  },
  {
   "cell_type": "markdown",
   "metadata": {},
   "source": [
    "# Load"
   ]
  },
  {
   "cell_type": "code",
   "execution_count": 6,
   "metadata": {},
   "outputs": [
    {
     "name": "stdout",
     "output_type": "stream",
     "text": [
      "Opened database successfully\n",
      "Data already exists in the database\n",
      "Close database successfully\n"
     ]
    }
   ],
   "source": [
    "# Load: Ingesting the transformed data into an SQLite Database\n",
    "\n",
    "def _load():\n",
    "    \n",
    "    df2 = pd.read_csv(\"data/covid_db_transformed_{}.csv\".format(date.today().strftime(\"%Y%m%d\")))\n",
    "    DATABASE_LOCATION = \"sqlite:///covid_db_cleaned.sqlite\"\n",
    "    engine = create_engine(DATABASE_LOCATION, echo=True)\n",
    "    sqlite_connection = engine.connect()\n",
    "    sqlite_table = \"covid_data\"\n",
    "    df2.to_sql(sqlite_table, sqlite_connection, if_exists='append')\n",
    "    sqlite_connection.close()\n",
    "\n",
    "_load()"
   ]
  },
  {
   "cell_type": "code",
   "execution_count": null,
   "metadata": {},
   "outputs": [],
   "source": []
  }
 ],
 "metadata": {
  "kernelspec": {
   "display_name": "Python 3.10.5 ('.venv': venv)",
   "language": "python",
   "name": "python3"
  },
  "language_info": {
   "codemirror_mode": {
    "name": "ipython",
    "version": 3
   },
   "file_extension": ".py",
   "mimetype": "text/x-python",
   "name": "python",
   "nbconvert_exporter": "python",
   "pygments_lexer": "ipython3",
   "version": "3.10.5"
  },
  "vscode": {
   "interpreter": {
    "hash": "64b057bb55637613cc0087a1624c3196cd273d05de0f597cd99fb0604b3ecb4f"
   }
  }
 },
 "nbformat": 4,
 "nbformat_minor": 4
}
